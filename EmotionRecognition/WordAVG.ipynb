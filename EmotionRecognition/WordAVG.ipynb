{
 "cells": [
  {
   "cell_type": "code",
   "execution_count": 1,
   "metadata": {},
   "outputs": [],
   "source": [
    "import numpy as np\n",
    "import pandas as pd\n",
    "import pickle as pkl\n",
    "import json\n",
    "\n",
    "import torch\n",
    "import torch.nn as nn\n",
    "import torch.nn.functional as F\n",
    "import torchsnooper\n",
    "from torch.utils.data import TensorDataset, DataLoader,Dataset\n",
    "from torch.autograd import Variable\n",
    "\n",
    "from dataFunc import tensor_load, tensor_save"
   ]
  },
  {
   "cell_type": "code",
   "execution_count": 2,
   "metadata": {},
   "outputs": [],
   "source": [
    "USE_CUDA = torch.cuda.is_available()"
   ]
  },
  {
   "cell_type": "code",
   "execution_count": 32,
   "metadata": {},
   "outputs": [],
   "source": [
    "#加载训练数据\n",
    "train_X = tensor_load('./dataset/train_X.npy')\n",
    "train_y = tensor_load('./dataset/train_y.npy')\n",
    "\n",
    "valid_X = tensor_load('./dataset/valid_X.npy')\n",
    "valid_y = tensor_load('./dataset/valid_y.npy')"
   ]
  },
  {
   "cell_type": "code",
   "execution_count": 33,
   "metadata": {},
   "outputs": [],
   "source": [
    "#torch中需要保证label大于0\n",
    "train_y += 1\n",
    "valid_y += 1"
   ]
  },
  {
   "cell_type": "code",
   "execution_count": 34,
   "metadata": {},
   "outputs": [],
   "source": [
    "valid_X, valid_y = Variable(valid_X).long(), Variable(valid_y).long()"
   ]
  },
  {
   "cell_type": "code",
   "execution_count": 102,
   "metadata": {},
   "outputs": [],
   "source": [
    "if USE_CUDA:\n",
    "    train_X, train_y = train_X.cuda(), train_y.cuda()\n",
    "    valid_X, valid_y = valid_X.cuda(), valid_y.cuda()\n",
    "\n",
    "#构建训练数据集\n",
    "train_dataset = TensorDataset(train_X, train_y)\n",
    "valid_dataset = TensorDataset(valid_X, valid_y)"
   ]
  },
  {
   "cell_type": "code",
   "execution_count": 9,
   "metadata": {},
   "outputs": [],
   "source": [
    "#加载词典\n",
    "with open('./dataset/vocab_dict.json', 'r') as f:\n",
    "    vocab_dict = json.load(f)\n"
   ]
  },
  {
   "cell_type": "code",
   "execution_count": 77,
   "metadata": {},
   "outputs": [],
   "source": [
    "class WordAVGModel(nn.Module):\n",
    "    def __init__(self,vocab_size, embedding_size, output_size, pad_idx):\n",
    "        super(WordAVGModel, self).__init__()\n",
    "        self.embed = nn.Embedding(vocab_size, embedding_size, padding_idx = pad_idx)\n",
    "        self.linear = nn.Linear(embedding_size, output_size)\n",
    "        \n",
    "    def forward(self, text):\n",
    "        embedded = self.embed(text) #text形状 (batch_size, seq_len, embedding_size)\n",
    "        \n",
    "        #对句子中的词向量平均，得到的向量表示该句子\n",
    "        pooled = F.avg_pool2d(embedded, (embedded.shape[1],1)).squeeze() # embedded.shape[1]是句子长度28\n",
    "        res = self.linear(pooled)\n",
    "        return res"
   ]
  },
  {
   "cell_type": "code",
   "execution_count": 98,
   "metadata": {},
   "outputs": [],
   "source": [
    "#正确率计算\n",
    "\n",
    "from sklearn.metrics import f1_score, precision_score, recall_score\n",
    "\n",
    "def accuracy_computing(preds, y, method = 'acc'):\n",
    "    if method == 'acc':\n",
    "        rounded_preds = preds.argmax(dim = 1)\n",
    "        correct = (rounded_preds == y).float()\n",
    "        acc = correct.sum() / len(correct)\n",
    "    elif method == 'map':\n",
    "        acc = f1_score(y.cpu().detach().numpy(), preds.cpu().detach().numpy(), average = 'macro', labels=[0, 1, 2])\n",
    "    else:\n",
    "        acc = None\n",
    "    return acc\n",
    "    "
   ]
  },
  {
   "cell_type": "code",
   "execution_count": 12,
   "metadata": {},
   "outputs": [],
   "source": [
    "#超参定义\n",
    "VOCAB_SIZE = len(vocab_dict)\n",
    "EMBEDDING_SIZE = 128\n",
    "PAD_IDX = vocab_dict['<pad>'] # 就是<pad>的index\n",
    "UNK_IDX = vocab_dict['<unk>'] #<unk>的index\n",
    "\n",
    "OUTPUT_SIZE = 3 #输出结果为1个数"
   ]
  },
  {
   "cell_type": "code",
   "execution_count": 82,
   "metadata": {},
   "outputs": [],
   "source": [
    "BATCH_SIZE = 64\n",
    "LEARNING_RATE = 0.001\n",
    "epoches = 10\n",
    "device = torch.device('cuda' if torch.cuda.is_available() else 'cpu')"
   ]
  },
  {
   "cell_type": "code",
   "execution_count": 103,
   "metadata": {},
   "outputs": [],
   "source": [
    "train_loader = DataLoader(train_dataset,\n",
    "                        batch_size = BATCH_SIZE,\n",
    "                        shuffle = True,\n",
    "                        num_workers = 0)\n",
    "\n",
    "valid_loader = DataLoader(valid_dataset,\n",
    "                         batch_size = BATCH_SIZE,\n",
    "                         shuffle = True,\n",
    "                         num_workers = 0)"
   ]
  },
  {
   "cell_type": "code",
   "execution_count": 78,
   "metadata": {},
   "outputs": [],
   "source": [
    "#模型声明\n",
    "model = WordAVGModel(vocab_size = VOCAB_SIZE, \n",
    "                     embedding_size = EMBEDDING_SIZE,\n",
    "                     output_size = OUTPUT_SIZE,\n",
    "                     pad_idx = PAD_IDX)\n",
    "\n",
    "model.embed.weight.data[PAD_IDX] = torch.zeros(EMBEDDING_SIZE)\n",
    "model.embed.weight.data[UNK_IDX] = torch.zeros(EMBEDDING_SIZE)"
   ]
  },
  {
   "cell_type": "code",
   "execution_count": 79,
   "metadata": {},
   "outputs": [],
   "source": [
    "#设置损失函数与优化器\n",
    "Loss = nn.CrossEntropyLoss()\n",
    "optimizer = torch.optim.Adam(model.parameters(),lr = LEARNING_RATE)\n",
    "\n",
    "model = model.to(device)\n",
    "Loss = Loss.to(device)"
   ]
  },
  {
   "cell_type": "code",
   "execution_count": 64,
   "metadata": {},
   "outputs": [
    {
     "data": {
      "text/plain": [
       "device(type='cuda')"
      ]
     },
     "execution_count": 64,
     "metadata": {},
     "output_type": "execute_result"
    }
   ],
   "source": [
    "device"
   ]
  },
  {
   "cell_type": "code",
   "execution_count": 104,
   "metadata": {},
   "outputs": [],
   "source": [
    "#单epoch训练函数\n",
    "#@torchsnooper.snoop()\n",
    "def train(model, Loss, optimizer, train_loader):\n",
    "    epoch_loss, epoch_acc = 0., 0.\n",
    "    total_len = 0\n",
    "    model.train()\n",
    "    for step, data in enumerate(train_loader):\n",
    "        batch_x, batch_y = data\n",
    "        #print(model.device)\n",
    "        # 将这些数据转换成Variable类型\n",
    "        batch_x, batch_y = Variable(batch_x).long(), Variable(batch_y).long()\n",
    "        output = model(batch_x)\n",
    "        \n",
    "        acc = accuracy_computing(output, batch_y.squeeze(), method = 'acc')\n",
    "        #acc = accuracy_computing(output, batch_y.squeeze(), method = 'map')\n",
    "        loss = Loss(output, batch_y.squeeze())\n",
    "        #SGD\n",
    "        optimizer.zero_grad()\n",
    "        loss.backward()\n",
    "        optimizer.step()\n",
    "        \n",
    "        epoch_loss += loss.item() * len(batch_y)\n",
    "        epoch_acc += acc.item() * len(batch_y)\n",
    "        total_len += len(batch_y)\n",
    "        \n",
    "        total_loss = epoch_loss / total_len\n",
    "        total_acc =  epoch_acc / total_len\n",
    "    \n",
    "    return total_loss, total_acc\n",
    "        "
   ]
  },
  {
   "cell_type": "code",
   "execution_count": 105,
   "metadata": {},
   "outputs": [],
   "source": [
    "#评估模型\n",
    "def evaluate(model, Loss, optimizer, valid_loader):\n",
    "    epoch_loss, epoch_acc = 0., 0.\n",
    "    total_len = 0\n",
    "    model.eval()\n",
    "    for step, data in enumerate(valid_loader):\n",
    "        batch_x, batch_y = data\n",
    "        # 将这些数据转换成Variable类型\n",
    "        batch_x, batch_y = Variable(batch_x).long(), Variable(batch_y).long()\n",
    "        output = model(batch_x)\n",
    "        \n",
    "        acc = accuracy_computing(output, batch_y.squeeze(), method = 'acc')\n",
    "        #acc = accuracy_computing(output, batch_y.squeeze(), method = 'map')\n",
    "        loss = Loss(output, batch_y.squeeze())\n",
    "        \n",
    "        epoch_loss += loss.item() * len(batch_y)\n",
    "        epoch_acc += acc.item() * len(batch_y)\n",
    "        total_len += len(batch_y)\n",
    "        \n",
    "        total_loss = epoch_loss / total_len\n",
    "        total_acc =  epoch_acc / total_len\n",
    "    model.train()\n",
    "    return total_loss, total_acc\n",
    "        "
   ]
  },
  {
   "cell_type": "code",
   "execution_count": 107,
   "metadata": {},
   "outputs": [
    {
     "name": "stdout",
     "output_type": "stream",
     "text": [
      "进行第0个epoch\n",
      "Epoch: 0 Train Loss: 0.8317320570868868 Train Accuracy: 0.6365211495665017\n",
      "Epoch: 0 Valid Loss: 0.8348728526352208 Valid Accuracy: 0.6314785055196539\n",
      "进行第1个epoch\n",
      "Epoch: 1 Train Loss: 0.8315085263369422 Train Accuracy: 0.6368099237819824\n",
      "Epoch: 1 Valid Loss: 0.8359780839381327 Valid Accuracy: 0.633085576500841\n",
      "进行第2个epoch\n",
      "Epoch: 2 Train Loss: 0.8315407373419437 Train Accuracy: 0.6375381370214114\n",
      "Epoch: 2 Valid Loss: 0.8361260405310956 Valid Accuracy: 0.6333869023943771\n",
      "进行第3个epoch\n"
     ]
    },
    {
     "ename": "KeyboardInterrupt",
     "evalue": "",
     "output_type": "error",
     "traceback": [
      "\u001b[1;31m---------------------------------------------------------------------------\u001b[0m",
      "\u001b[1;31mKeyboardInterrupt\u001b[0m                         Traceback (most recent call last)",
      "\u001b[1;32m<ipython-input-107-a7528164598f>\u001b[0m in \u001b[0;36m<module>\u001b[1;34m\u001b[0m\n\u001b[0;32m      7\u001b[0m     \u001b[0mprint\u001b[0m\u001b[1;33m(\u001b[0m\u001b[1;34m\"进行第{}个epoch\"\u001b[0m\u001b[1;33m.\u001b[0m\u001b[0mformat\u001b[0m\u001b[1;33m(\u001b[0m\u001b[0mepoch\u001b[0m\u001b[1;33m)\u001b[0m\u001b[1;33m)\u001b[0m\u001b[1;33m\u001b[0m\u001b[1;33m\u001b[0m\u001b[0m\n\u001b[0;32m      8\u001b[0m \u001b[1;33m\u001b[0m\u001b[0m\n\u001b[1;32m----> 9\u001b[1;33m     \u001b[0mtrain_loss\u001b[0m\u001b[1;33m,\u001b[0m \u001b[0mtrain_acc\u001b[0m \u001b[1;33m=\u001b[0m \u001b[0mtrain\u001b[0m\u001b[1;33m(\u001b[0m\u001b[0mmodel\u001b[0m\u001b[1;33m,\u001b[0m \u001b[0mLoss\u001b[0m\u001b[1;33m,\u001b[0m \u001b[0moptimizer\u001b[0m\u001b[1;33m,\u001b[0m \u001b[0mtrain_loader\u001b[0m\u001b[1;33m)\u001b[0m\u001b[1;33m\u001b[0m\u001b[1;33m\u001b[0m\u001b[0m\n\u001b[0m\u001b[0;32m     10\u001b[0m     \u001b[0mvalid_loss\u001b[0m\u001b[1;33m,\u001b[0m \u001b[0mvalid_acc\u001b[0m \u001b[1;33m=\u001b[0m \u001b[0mevaluate\u001b[0m\u001b[1;33m(\u001b[0m\u001b[0mmodel\u001b[0m\u001b[1;33m,\u001b[0m \u001b[0mLoss\u001b[0m\u001b[1;33m,\u001b[0m \u001b[0moptimizer\u001b[0m\u001b[1;33m,\u001b[0m \u001b[0mvalid_loader\u001b[0m\u001b[1;33m)\u001b[0m\u001b[1;33m\u001b[0m\u001b[1;33m\u001b[0m\u001b[0m\n\u001b[0;32m     11\u001b[0m \u001b[1;33m\u001b[0m\u001b[0m\n",
      "\u001b[1;32m<ipython-input-104-7f59d3b5f988>\u001b[0m in \u001b[0;36mtrain\u001b[1;34m(model, Loss, optimizer, train_loader)\u001b[0m\n\u001b[0;32m     17\u001b[0m         \u001b[1;31m#SGD\u001b[0m\u001b[1;33m\u001b[0m\u001b[1;33m\u001b[0m\u001b[1;33m\u001b[0m\u001b[0m\n\u001b[0;32m     18\u001b[0m         \u001b[0moptimizer\u001b[0m\u001b[1;33m.\u001b[0m\u001b[0mzero_grad\u001b[0m\u001b[1;33m(\u001b[0m\u001b[1;33m)\u001b[0m\u001b[1;33m\u001b[0m\u001b[1;33m\u001b[0m\u001b[0m\n\u001b[1;32m---> 19\u001b[1;33m         \u001b[0mloss\u001b[0m\u001b[1;33m.\u001b[0m\u001b[0mbackward\u001b[0m\u001b[1;33m(\u001b[0m\u001b[1;33m)\u001b[0m\u001b[1;33m\u001b[0m\u001b[1;33m\u001b[0m\u001b[0m\n\u001b[0m\u001b[0;32m     20\u001b[0m         \u001b[0moptimizer\u001b[0m\u001b[1;33m.\u001b[0m\u001b[0mstep\u001b[0m\u001b[1;33m(\u001b[0m\u001b[1;33m)\u001b[0m\u001b[1;33m\u001b[0m\u001b[1;33m\u001b[0m\u001b[0m\n\u001b[0;32m     21\u001b[0m \u001b[1;33m\u001b[0m\u001b[0m\n",
      "\u001b[1;32mD:\\Anaconda3\\lib\\site-packages\\torch\\tensor.py\u001b[0m in \u001b[0;36mbackward\u001b[1;34m(self, gradient, retain_graph, create_graph)\u001b[0m\n\u001b[0;32m    105\u001b[0m                 \u001b[0mproducts\u001b[0m\u001b[1;33m.\u001b[0m \u001b[0mDefaults\u001b[0m \u001b[0mto\u001b[0m\u001b[0;31m \u001b[0m\u001b[0;31m`\u001b[0m\u001b[0;31m`\u001b[0m\u001b[1;32mFalse\u001b[0m\u001b[0;31m`\u001b[0m\u001b[0;31m`\u001b[0m\u001b[1;33m.\u001b[0m\u001b[1;33m\u001b[0m\u001b[1;33m\u001b[0m\u001b[0m\n\u001b[0;32m    106\u001b[0m         \"\"\"\n\u001b[1;32m--> 107\u001b[1;33m         \u001b[0mtorch\u001b[0m\u001b[1;33m.\u001b[0m\u001b[0mautograd\u001b[0m\u001b[1;33m.\u001b[0m\u001b[0mbackward\u001b[0m\u001b[1;33m(\u001b[0m\u001b[0mself\u001b[0m\u001b[1;33m,\u001b[0m \u001b[0mgradient\u001b[0m\u001b[1;33m,\u001b[0m \u001b[0mretain_graph\u001b[0m\u001b[1;33m,\u001b[0m \u001b[0mcreate_graph\u001b[0m\u001b[1;33m)\u001b[0m\u001b[1;33m\u001b[0m\u001b[1;33m\u001b[0m\u001b[0m\n\u001b[0m\u001b[0;32m    108\u001b[0m \u001b[1;33m\u001b[0m\u001b[0m\n\u001b[0;32m    109\u001b[0m     \u001b[1;32mdef\u001b[0m \u001b[0mregister_hook\u001b[0m\u001b[1;33m(\u001b[0m\u001b[0mself\u001b[0m\u001b[1;33m,\u001b[0m \u001b[0mhook\u001b[0m\u001b[1;33m)\u001b[0m\u001b[1;33m:\u001b[0m\u001b[1;33m\u001b[0m\u001b[1;33m\u001b[0m\u001b[0m\n",
      "\u001b[1;32mD:\\Anaconda3\\lib\\site-packages\\torch\\autograd\\__init__.py\u001b[0m in \u001b[0;36mbackward\u001b[1;34m(tensors, grad_tensors, retain_graph, create_graph, grad_variables)\u001b[0m\n\u001b[0;32m     91\u001b[0m     Variable._execution_engine.run_backward(\n\u001b[0;32m     92\u001b[0m         \u001b[0mtensors\u001b[0m\u001b[1;33m,\u001b[0m \u001b[0mgrad_tensors\u001b[0m\u001b[1;33m,\u001b[0m \u001b[0mretain_graph\u001b[0m\u001b[1;33m,\u001b[0m \u001b[0mcreate_graph\u001b[0m\u001b[1;33m,\u001b[0m\u001b[1;33m\u001b[0m\u001b[1;33m\u001b[0m\u001b[0m\n\u001b[1;32m---> 93\u001b[1;33m         allow_unreachable=True)  # allow_unreachable flag\n\u001b[0m\u001b[0;32m     94\u001b[0m \u001b[1;33m\u001b[0m\u001b[0m\n\u001b[0;32m     95\u001b[0m \u001b[1;33m\u001b[0m\u001b[0m\n",
      "\u001b[1;31mKeyboardInterrupt\u001b[0m: "
     ]
    }
   ],
   "source": [
    "#训练开始\n",
    "best_valid_acc = 0.\n",
    "best_epoch = 0\n",
    "best_valid_loss = 0.\n",
    "\n",
    "for epoch in range(epoches):\n",
    "    print(\"进行第{}个epoch\".format(epoch))\n",
    "    \n",
    "    train_loss, train_acc = train(model, Loss, optimizer, train_loader)\n",
    "    valid_loss, valid_acc = evaluate(model, Loss, optimizer, valid_loader)\n",
    "    \n",
    "    if valid_acc > best_valid_acc:\n",
    "        best_epoch = epoch\n",
    "        best_valid_acc = valid_acc \n",
    "        torch.save(model.state_dict(), 'wordavg-model.pth')\n",
    "        \n",
    "    print('Epoch:', epoch, 'Train Loss:', train_loss, 'Train Accuracy:', train_acc)\n",
    "    print('Epoch:', epoch, 'Valid Loss:', valid_loss, 'Valid Accuracy:', valid_acc)\n",
    "\n",
    "print(\"Train finished!\")\n",
    "print('Best Epoch:', best_epoch, 'Best Valid Loss:', best_valid_loss, 'Best Valid Accuracy:', best_valid_acc)"
   ]
  },
  {
   "cell_type": "code",
   "execution_count": null,
   "metadata": {},
   "outputs": [],
   "source": [
    "import spacy\n",
    "\n",
    "nlp = spacy.load('zh')\n",
    "\n",
    "def predict_sentence()"
   ]
  },
  {
   "cell_type": "code",
   "execution_count": 12,
   "metadata": {},
   "outputs": [
    {
     "data": {
      "text/plain": [
       "4807501"
      ]
     },
     "execution_count": 12,
     "metadata": {},
     "output_type": "execute_result"
    }
   ],
   "source": [
    "#model参数\n",
    "def count_parameters(model):\n",
    "    return sum(p.numel() for p in model.parameters() if p.requires_grad)\n",
    "\n",
    "count_parameters(model)"
   ]
  },
  {
   "cell_type": "code",
   "execution_count": 12,
   "metadata": {},
   "outputs": [
    {
     "data": {
      "text/plain": [
       "4807400"
      ]
     },
     "execution_count": 12,
     "metadata": {},
     "output_type": "execute_result"
    }
   ],
   "source": [
    "next(model.parameters()).numel()"
   ]
  }
 ],
 "metadata": {
  "kernelspec": {
   "display_name": "Python 3",
   "language": "python",
   "name": "python3"
  },
  "language_info": {
   "codemirror_mode": {
    "name": "ipython",
    "version": 3
   },
   "file_extension": ".py",
   "mimetype": "text/x-python",
   "name": "python",
   "nbconvert_exporter": "python",
   "pygments_lexer": "ipython3",
   "version": "3.7.3"
  }
 },
 "nbformat": 4,
 "nbformat_minor": 2
}
