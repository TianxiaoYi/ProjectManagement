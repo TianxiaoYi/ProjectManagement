{
 "cells": [
  {
   "cell_type": "code",
   "execution_count": 1,
   "metadata": {},
   "outputs": [],
   "source": [
    "import numpy as np\n",
    "import pandas as pd\n",
    "import pickle as pkl\n",
    "import json\n",
    "\n",
    "import torch\n",
    "import torch.nn as nn\n",
    "import torch.nn.functional as F\n",
    "import torchsnooper\n",
    "from torch.utils.data import TensorDataset, DataLoader,Dataset\n",
    "from torch.autograd import Variable\n",
    "\n",
    "from dataFunc import tensor_load, tensor_save\n",
    "\n",
    "import time"
   ]
  },
  {
   "cell_type": "code",
   "execution_count": 2,
   "metadata": {},
   "outputs": [],
   "source": [
    "import os\n",
    "\n",
    "os.environ[\"CUDA_VISIBLE_DEVICES\"] = \"1\""
   ]
  },
  {
   "cell_type": "code",
   "execution_count": 3,
   "metadata": {},
   "outputs": [
    {
     "data": {
      "text/plain": [
       "0"
      ]
     },
     "execution_count": 3,
     "metadata": {},
     "output_type": "execute_result"
    }
   ],
   "source": [
    "torch.cuda.current_device()"
   ]
  },
  {
   "cell_type": "code",
   "execution_count": 4,
   "metadata": {},
   "outputs": [],
   "source": [
    "USE_CUDA = torch.cuda.is_available()"
   ]
  },
  {
   "cell_type": "code",
   "execution_count": 5,
   "metadata": {},
   "outputs": [],
   "source": [
    "#加载训练数据\n",
    "train_X = tensor_load('./dataset/train_X.npy')\n",
    "train_y = tensor_load('./dataset/train_y.npy')\n",
    "\n",
    "#加载验证数据\n",
    "valid_X = tensor_load('./dataset/valid_X.npy')\n",
    "valid_y = tensor_load('./dataset/valid_y.npy')\n",
    "\n",
    "#加载测试数据\n",
    "test_X = tensor_load('./dataset/test_X.npy')\n",
    "test_y = tensor_load('./dataset/test_y.npy')"
   ]
  },
  {
   "cell_type": "code",
   "execution_count": 6,
   "metadata": {},
   "outputs": [],
   "source": [
    "#torch中需要保证label大于0\n",
    "train_y += 1\n",
    "valid_y += 1\n",
    "test_y += 1"
   ]
  },
  {
   "cell_type": "code",
   "execution_count": 7,
   "metadata": {},
   "outputs": [],
   "source": [
    "valid_X, valid_y = Variable(valid_X).long(), Variable(valid_y).long()\n",
    "test_X, test_y = Variable(test_X).long(), Variable(test_y).long()"
   ]
  },
  {
   "cell_type": "code",
   "execution_count": 8,
   "metadata": {},
   "outputs": [],
   "source": [
    "if USE_CUDA:\n",
    "    train_X, train_y = train_X.cuda(), train_y.cuda()\n",
    "    valid_X, valid_y = valid_X.cuda(), valid_y.cuda()\n",
    "    test_X, test_y = test_X.cuda(), test_y.cuda()\n",
    "    \n",
    "\n",
    "#构建训练数据集\n",
    "train_dataset = TensorDataset(train_X, train_y)\n",
    "valid_dataset = TensorDataset(valid_X, valid_y)"
   ]
  },
  {
   "cell_type": "code",
   "execution_count": 9,
   "metadata": {},
   "outputs": [],
   "source": [
    "#加载词典\n",
    "with open('./dataset/vocab_dict.json', 'r') as f:\n",
    "    vocab_dict = json.load(f)\n"
   ]
  },
  {
   "cell_type": "code",
   "execution_count": 10,
   "metadata": {},
   "outputs": [],
   "source": [
    "class LSTMModel(nn.Module):\n",
    "    def __init__(self,vocab_size, embedding_size, output_size, pad_idx, hidden_size, num_layers, bidirectional, dropout):\n",
    "        super(LSTMModel, self).__init__()\n",
    "        self.embed = nn.Embedding(vocab_size, embedding_size, padding_idx = pad_idx)\n",
    "        self.lstm = nn.LSTM(embedding_size, hidden_size, num_layers = num_layers, bidirectional = bidirectional)\n",
    "        self.dropout = nn.Dropout(dropout)\n",
    "        self.f1 = nn.Sequential(nn.Linear(hidden_size * 2, output_size),\n",
    "                                nn.Softmax())\n",
    "        \n",
    "    def forward(self, text):\n",
    "        x = self.embed(text) \n",
    "        x = self.dropout(x.permute(1,0,2)) #原词向量形状 (batch_size, seq_len, embedding_size)\n",
    "        x, (hidden, cell) = self.lstm(x)\n",
    "\n",
    "        hidden = torch.cat([hidden[-1], hidden[-2]], dim = 1)\n",
    "        x = self.dropout(hidden.squeeze())\n",
    "        return self.f1(x)"
   ]
  },
  {
   "cell_type": "code",
   "execution_count": 11,
   "metadata": {},
   "outputs": [],
   "source": [
    "class GRUModel(nn.Module):\n",
    "    def __init__(self,vocab_size, embedding_size, output_size, pad_idx, hidden_size, num_layers, bidirectional, dropout):\n",
    "        super(GRUModel, self).__init__()\n",
    "        self.embed = nn.Embedding(vocab_size, embedding_size, padding_idx = pad_idx)\n",
    "        self.gru = nn.GRU(embedding_size, hidden_size, num_layers = num_layers, bidirectional = bidirectional)\n",
    "        self.dropout = nn.Dropout(dropout)\n",
    "        self.f1 = nn.Sequential(nn.Linear(hidden_size * 2, hidden_size),\n",
    "                                nn.Dropout(dropout),\n",
    "                                nn.ReLU())\n",
    "        self.f2 = nn.Sequential(nn.Linear(hidden_size, output_size),\n",
    "                               nn.Softmax())\n",
    "        \n",
    "    def forward(self, text):\n",
    "        x = self.embed(text)  #原词向量形状 (batch_size, seq_len, embedding_size)   .permute(1,0,2)\n",
    "        x, _ = self.gru(x)\n",
    "        x = self.dropout(x)\n",
    "        x = self.f1(x[:, -1, :])\n",
    "        return self.f2(x)"
   ]
  },
  {
   "cell_type": "code",
   "execution_count": 12,
   "metadata": {},
   "outputs": [],
   "source": [
    "class CNNModel(nn.Module):\n",
    "    def __init__(self,vocab_size, embedding_size, output_size, pad_idx, num_filters, filter_sizes, dropout):\n",
    "        super(CNNModel, self).__init__()\n",
    "        self.embed = nn.Embedding(vocab_size, embedding_size, padding_idx = pad_idx)\n",
    "        self.convs = nn.ModuleList([\n",
    "                        nn.Conv2d(in_channels = 1, out_channels = num_filters, kernel_size = (fs, embedding_size))\n",
    "                        for fs in filter_sizes\n",
    "        ])\n",
    "        self.dropout = nn.Dropout(dropout)\n",
    "        self.f1 = nn.Linear(num_filters * len(filter_sizes), output_size)\n",
    "        \n",
    "    def forward(self, text):\n",
    "        #text.shape(batch_size, seq_len)\n",
    "        x = self.embed(text) # (batch_size, seq_len, embedding_size)\n",
    "        x = x.unsqueeze(1) #(batch_size, 1, seq_len, embedding_size)\n",
    "        convd = [F.relu(conv(x)).squeeze(3) for conv in self.convs] #(batch_size, num_filters, seq_len - filter_size + 1, 1)\n",
    "#         x = F.max_pool1d(x, x.shape[2])# (batch_size, num_filters, 1)\n",
    "#         x = x.squeeze(2)\n",
    "        x = [F.max_pool1d(conv, conv.shape[2]).squeeze(2) for conv in convd] # (batch_size, 3 * num_filters)\n",
    "        x = torch.cat(x, dim = 1)\n",
    "        x = self.dropout(x)\n",
    "        return self.f1(x)"
   ]
  },
  {
   "cell_type": "code",
   "execution_count": 58,
   "metadata": {},
   "outputs": [],
   "source": [
    "class LSTM_CNNModel(nn.Module):\n",
    "    def __init__(self,vocab_size, embedding_size, output_size,num_layers, hidden_size, bidirectional, \n",
    "                 pad_idx, num_filters, filter_sizes, dropout):\n",
    "        super(LSTM_CNNModel, self).__init__()\n",
    "        self.embed = nn.Embedding(vocab_size, embedding_size, padding_idx = pad_idx)\n",
    "        self.lstm = nn.LSTM(embedding_size, hidden_size, num_layers = num_layers, bidirectional = bidirectional)\n",
    "        self.dropout = nn.Dropout(dropout)\n",
    "        \n",
    "        if bidirectional:\n",
    "        \n",
    "            self.convs = nn.ModuleList([\n",
    "                            nn.Conv2d(in_channels = 1, out_channels = num_filters, kernel_size = (fs, hidden_size * 2))\n",
    "                            for fs in filter_sizes\n",
    "            ])\n",
    "        else:\n",
    "            self.convs = nn.ModuleList([\n",
    "                        nn.Conv2d(in_channels = 1, out_channels = num_filters, kernel_size = (fs, hidden_size))\n",
    "                        for fs in filter_sizes\n",
    "            ])\n",
    "        self.dropout = nn.Dropout(dropout)\n",
    "        self.f1 = nn.Linear(num_filters * len(filter_sizes), output_size)\n",
    "        \n",
    "    def forward(self, text):\n",
    "        #text.shape(batch_size, seq_len)\n",
    "        x = self.embed(text) # (batch_size, seq_len, embedding_size)\n",
    "        \n",
    "        x = self.dropout(x.permute(1,0,2)) #原词向量形状 (batch_size, seq_len, embedding_size)\n",
    "        x, (hidden, cell) = self.lstm(x)\n",
    "        #hidden = torch.cat([hidden[-1], hidden[-2]], dim = 1)\n",
    "        x = x.unsqueeze(1) #(seq_len, 1, batch_size, hidden_size * 双向（2）)\n",
    "        x = x.permute(2, 1, 0, 3)\n",
    "        convd = [F.relu(conv(x)).squeeze(3) for conv in self.convs] #(batch_size, num_filters, seq_len - filter_size + 1, 1)\n",
    "        \n",
    "        x = [F.max_pool1d(conv, conv.shape[2]).squeeze(2) for conv in convd] # (batch_size, 3 * num_filters)\n",
    "        x = torch.cat(x, dim = 1)\n",
    "        x = self.dropout(x)\n",
    "        return self.f1(x)"
   ]
  },
  {
   "cell_type": "code",
   "execution_count": 93,
   "metadata": {},
   "outputs": [],
   "source": [
    "class CNN_LSTMModel(nn.Module):\n",
    "\n",
    "    def __init__(self, vocab_size, embedding_size, output_size, num_layers, hidden_size, bidirectional, pad_idx,\n",
    "                 num_filters, filter_sizes, dropout):\n",
    "        super(CNN_LSTMModel, self).__init__()\n",
    "        self.embed = nn.Embedding(vocab_size, embedding_size, padding_idx = pad_idx)\n",
    "        self.convs = nn.ModuleList([\n",
    "                        nn.Conv2d(in_channels = 1, out_channels = num_filters * 2, kernel_size = (fs, embedding_size))\n",
    "                        for fs in filter_sizes\n",
    "        ])\n",
    "        self.lstm = nn.LSTM(embedding_size, hidden_size, num_layers = num_layers, bidirectional = bidirectional)\n",
    "        self.dropout = nn.Dropout(dropout)\n",
    "        self.f1 = nn.Sequential(nn.Linear(hidden_size * 2, output_size),\n",
    "                                nn.Softmax())\n",
    "        \n",
    "\n",
    "    def forward(self,text):\n",
    "        ## CNN\n",
    "        #text.shape(batch_size, seq_len)\n",
    "        x = self.embed(text)  # (batch_size, seq_len, embedding_size)\n",
    "        x = x.unsqueeze(1)  # (batch_size, 1, seq_len, embedding_size)\n",
    "        convd = [F.relu(conv(x)).squeeze(3) for conv in\n",
    "                 self.convs]  # (batch_size, num_filters, seq_len - filter_size + 1, 1)\n",
    "        #         x = F.max_pool1d(x, x.shape[2])# (batch_size, num_filters, 1)\n",
    "        #         x = x.squeeze(2)\n",
    "        x = [F.max_pool1d(conv, conv.shape[2]).squeeze(2) for conv in convd]  # (batch_size, 3 * num_filters)\n",
    "        x = torch.cat(x, dim=1)\n",
    "        x = self.dropout(x)\n",
    "        ## LSTM\n",
    "        x = x.unsqueeze(0)\n",
    "        x, (hidden, cell) = self.lstm(x)\n",
    "        hidden = torch.cat([hidden[-1], hidden[-2]], dim = 1)\n",
    "        x = self.dropout(hidden.squeeze())\n",
    "\n",
    "        return self.f1(x)"
   ]
  },
  {
   "cell_type": "code",
   "execution_count": 14,
   "metadata": {},
   "outputs": [],
   "source": [
    "#正确率计算\n",
    "\n",
    "from sklearn.metrics import f1_score, precision_score, recall_score\n",
    "\n",
    "def accuracy_computing(preds, y):\n",
    "    rounded_preds = preds.argmax(dim = 1)\n",
    "    #print(rounded_preds.shape)\n",
    "    #print(y.shape)\n",
    "    correct = (rounded_preds == y).float()\n",
    "    #print(rounded_preds)\n",
    "    #print(y)\n",
    "    acc = correct.sum() / len(correct)\n",
    "    MAP = f1_score(y.cpu().detach().numpy(), rounded_preds.cpu().detach().numpy(), average = 'macro', labels=[0, 1, 2])\n",
    "    return acc, MAP\n",
    "    "
   ]
  },
  {
   "cell_type": "code",
   "execution_count": 78,
   "metadata": {},
   "outputs": [],
   "source": [
    "#超参定义\n",
    "VOCAB_SIZE = len(vocab_dict)\n",
    "EMBEDDING_SIZE = 128\n",
    "PAD_IDX = vocab_dict['<pad>'] # 就是<pad>的index\n",
    "UNK_IDX = vocab_dict['<unk>'] #<unk>的index\n",
    "\n",
    "OUTPUT_SIZE = 3 #输出结果为1个数"
   ]
  },
  {
   "cell_type": "code",
   "execution_count": 79,
   "metadata": {},
   "outputs": [],
   "source": [
    "BATCH_SIZE = 128\n",
    "LEARNING_RATE = 0.001\n",
    "num_layers = 2\n",
    "bidirectional = True\n",
    "hidden_size = 128\n",
    "dropout = 0.5\n",
    "epoches = 30\n",
    "device = torch.device('cuda' if torch.cuda.is_available() else 'cpu')"
   ]
  },
  {
   "cell_type": "code",
   "execution_count": 37,
   "metadata": {},
   "outputs": [],
   "source": [
    "train_loader = DataLoader(train_dataset,\n",
    "                        batch_size = BATCH_SIZE,\n",
    "                        shuffle = True,\n",
    "                        num_workers = 0)\n",
    "\n",
    "valid_loader = DataLoader(valid_dataset,\n",
    "                         batch_size = BATCH_SIZE,\n",
    "                         shuffle = True,\n",
    "                         num_workers = 0)"
   ]
  },
  {
   "cell_type": "code",
   "execution_count": 38,
   "metadata": {},
   "outputs": [],
   "source": [
    "METHOD = 'lstm-cnn'"
   ]
  },
  {
   "cell_type": "code",
   "execution_count": 94,
   "metadata": {},
   "outputs": [],
   "source": [
    "#模型声明\n",
    "if METHOD == 'lstm':\n",
    "    model = LSTMModel(vocab_size = VOCAB_SIZE, \n",
    "                     embedding_size = EMBEDDING_SIZE,\n",
    "                     output_size = OUTPUT_SIZE,\n",
    "                     pad_idx = PAD_IDX,\n",
    "                     num_layers = num_layers,\n",
    "                     bidirectional = bidirectional,\n",
    "                     hidden_size = hidden_size,\n",
    "                     dropout = dropout)\n",
    "elif METHOD == 'gru':\n",
    "    model = GRUModel(vocab_size = VOCAB_SIZE, \n",
    "                     embedding_size = EMBEDDING_SIZE,\n",
    "                     output_size = OUTPUT_SIZE,\n",
    "                     pad_idx = PAD_IDX,\n",
    "                     num_layers = num_layers,\n",
    "                     bidirectional = bidirectional,\n",
    "                     hidden_size = hidden_size,\n",
    "                     dropout = dropout)\n",
    "elif METHOD == 'cnn':\n",
    "    model = CNNModel(vocab_size = VOCAB_SIZE, \n",
    "                     embedding_size = EMBEDDING_SIZE,\n",
    "                     output_size = OUTPUT_SIZE,\n",
    "                     pad_idx = PAD_IDX,\n",
    "                     num_filters = 100,\n",
    "                     filter_sizes = [3, 4, 5], \n",
    "                     dropout = dropout\n",
    "                    )\n",
    "    \n",
    "elif METHOD == 'lstm-cnn':\n",
    "    model = LSTM_CNNModel(vocab_size = VOCAB_SIZE, \n",
    "                     embedding_size = EMBEDDING_SIZE,\n",
    "                     output_size = OUTPUT_SIZE,\n",
    "                     pad_idx = PAD_IDX,\n",
    "                     num_layers = num_layers,\n",
    "                     bidirectional = bidirectional,\n",
    "                     hidden_size = hidden_size,\n",
    "                     dropout = dropout,\n",
    "                     num_filters = 64,\n",
    "                     filter_sizes = [3]\n",
    "                    )\n",
    "\n",
    "elif METHOD == 'cnn-lstm':\n",
    "    model = CNN_LSTMModel(vocab_size = VOCAB_SIZE, \n",
    "                     embedding_size = EMBEDDING_SIZE,\n",
    "                     output_size = OUTPUT_SIZE,\n",
    "                     pad_idx = PAD_IDX,\n",
    "                     num_layers = num_layers,\n",
    "                     bidirectional = bidirectional,\n",
    "                     hidden_size = hidden_size,\n",
    "                     dropout = dropout,\n",
    "                     num_filters = 32,\n",
    "                     filter_sizes = [3]\n",
    "                    )\n",
    "\n",
    "model.embed.weight.data[PAD_IDX] = torch.zeros(EMBEDDING_SIZE)\n",
    "model.embed.weight.data[UNK_IDX] = torch.zeros(EMBEDDING_SIZE)"
   ]
  },
  {
   "cell_type": "code",
   "execution_count": 82,
   "metadata": {},
   "outputs": [],
   "source": [
    "#设置损失函数与优化器\n",
    "Loss = nn.CrossEntropyLoss()\n",
    "optimizer = torch.optim.Adam(model.parameters(), lr = LEARNING_RATE)\n",
    "\n",
    "model = model.to(device)\n",
    "Loss = Loss.to(device)"
   ]
  },
  {
   "cell_type": "code",
   "execution_count": 21,
   "metadata": {},
   "outputs": [
    {
     "data": {
      "text/plain": [
       "device(type='cuda')"
      ]
     },
     "execution_count": 21,
     "metadata": {},
     "output_type": "execute_result"
    }
   ],
   "source": [
    "device"
   ]
  },
  {
   "cell_type": "code",
   "execution_count": 22,
   "metadata": {},
   "outputs": [],
   "source": [
    "#单epoch训练函数\n",
    "#@torchsnooper.snoop()\n",
    "def train(model, Loss, optimizer, train_loader):\n",
    "    epoch_loss, epoch_acc ,epoch_MAP = 0., 0., 0.\n",
    "    total_len = 0\n",
    "    model.train()\n",
    "    for step, data in enumerate(train_loader):\n",
    "        start = time.clock()\n",
    "        batch_x, batch_y = data\n",
    "        #print(model.device)\n",
    "        # 将这些数据转换成Variable类型\n",
    "        batch_x, batch_y = Variable(batch_x).long(), Variable(batch_y).long()\n",
    "        output = model(batch_x)\n",
    "        \n",
    "        acc, MAP = accuracy_computing(output, batch_y.squeeze())\n",
    "        loss = Loss(output, batch_y.squeeze())\n",
    "        #SGD\n",
    "        optimizer.zero_grad()\n",
    "        loss.backward()\n",
    "        optimizer.step()\n",
    "        \n",
    "        epoch_loss += loss.item() * len(batch_y)\n",
    "        epoch_acc += acc.item() * len(batch_y)\n",
    "        epoch_MAP += MAP.item() * len(batch_y)\n",
    "        total_len += len(batch_y)\n",
    "        \n",
    "        \n",
    "        total_loss = epoch_loss / total_len\n",
    "        total_acc =  epoch_acc / total_len\n",
    "        total_MAP = epoch_MAP / total_len\n",
    "        end = time.clock()\n",
    "        #print('Step:', step, 'Train Loss: %0.6f'% loss.data, 'Train Accuracy: %0.4f'% acc, 'Train MAP:',MAP ,'Time: %0.6f'% (end-start))\n",
    "    return total_loss, total_acc, total_MAP\n",
    "        "
   ]
  },
  {
   "cell_type": "code",
   "execution_count": 23,
   "metadata": {},
   "outputs": [],
   "source": [
    "#评估模型\n",
    "def evaluate(model, Loss, optimizer, valid_loader):\n",
    "    epoch_loss, epoch_acc ,epoch_MAP = 0., 0., 0.\n",
    "    total_len = 0\n",
    "    model.eval()\n",
    "    for step, data in enumerate(valid_loader):\n",
    "        batch_x, batch_y = data\n",
    "        # 将这些数据转换成Variable类型\n",
    "        batch_x, batch_y = Variable(batch_x).long(), Variable(batch_y).long()\n",
    "        output = model(batch_x)\n",
    "        \n",
    "        acc, MAP = accuracy_computing(output, batch_y.squeeze())\n",
    "        loss = Loss(output, batch_y.squeeze())\n",
    "        \n",
    "        epoch_loss += loss.item() * len(batch_y)\n",
    "        epoch_acc += acc.item() * len(batch_y)\n",
    "        epoch_MAP += MAP.item() * len(batch_y)\n",
    "        total_len += len(batch_y)\n",
    "        \n",
    "        total_loss = epoch_loss / total_len\n",
    "        total_acc =  epoch_acc / total_len\n",
    "        total_MAP = epoch_MAP / total_len\n",
    "    model.train()\n",
    "    return total_loss, total_acc, total_MAP\n",
    "        "
   ]
  },
  {
   "cell_type": "code",
   "execution_count": 83,
   "metadata": {},
   "outputs": [
    {
     "name": "stdout",
     "output_type": "stream",
     "text": [
      "进行第0个epoch\n"
     ]
    },
    {
     "name": "stderr",
     "output_type": "stream",
     "text": [
      "/home/dingmuhe/conda/envs/begin/lib/python3.7/site-packages/ipykernel_launcher.py:8: DeprecationWarning: time.clock has been deprecated in Python 3.3 and will be removed from Python 3.8: use time.perf_counter or time.process_time instead\n",
      "  \n",
      "/home/dingmuhe/conda/envs/begin/lib/python3.7/site-packages/ipykernel_launcher.py:31: DeprecationWarning: time.clock has been deprecated in Python 3.3 and will be removed from Python 3.8: use time.perf_counter or time.process_time instead\n"
     ]
    },
    {
     "name": "stdout",
     "output_type": "stream",
     "text": [
      "--------------------\n",
      "Epoch: 0 Train Loss: 0.875899 Train MAP: 0.40507039459980215 Train Accuracy: 0.6220\n",
      "Epoch: 0 Valid Loss: 0.820566 Valid MAP: 0.48379780347217705 Valid Accuracy: 0.6432\n",
      "--------------------\n",
      "进行第1个epoch\n",
      "--------------------\n",
      "Epoch: 1 Train Loss: 0.833032 Train MAP: 0.45583077130979127 Train Accuracy: 0.6405\n",
      "Epoch: 1 Valid Loss: 0.803826 Valid MAP: 0.46309584989196384 Valid Accuracy: 0.6517\n",
      "--------------------\n",
      "进行第2个epoch\n",
      "--------------------\n",
      "Epoch: 2 Train Loss: 0.814974 Train MAP: 0.4684669702240651 Train Accuracy: 0.6486\n",
      "Epoch: 2 Valid Loss: 0.795683 Valid MAP: 0.47776044939475576 Valid Accuracy: 0.6582\n",
      "--------------------\n",
      "进行第3个epoch\n",
      "--------------------\n",
      "Epoch: 3 Train Loss: 0.799001 Train MAP: 0.4807225176395516 Train Accuracy: 0.6531\n",
      "Epoch: 3 Valid Loss: 0.785378 Valid MAP: 0.50230537986196 Valid Accuracy: 0.6624\n",
      "--------------------\n",
      "进行第4个epoch\n",
      "--------------------\n",
      "Epoch: 4 Train Loss: 0.785658 Train MAP: 0.4961435186693958 Train Accuracy: 0.6572\n",
      "Epoch: 4 Valid Loss: 0.776376 Valid MAP: 0.5387745179628007 Valid Accuracy: 0.6666\n",
      "--------------------\n",
      "进行第5个epoch\n",
      "--------------------\n",
      "Epoch: 5 Train Loss: 0.775948 Train MAP: 0.5060241192390609 Train Accuracy: 0.6627\n",
      "Epoch: 5 Valid Loss: 0.771206 Valid MAP: 0.5229976695903769 Valid Accuracy: 0.6674\n",
      "--------------------\n",
      "进行第6个epoch\n",
      "--------------------\n",
      "Epoch: 6 Train Loss: 0.766217 Train MAP: 0.5174104859413975 Train Accuracy: 0.6659\n",
      "Epoch: 6 Valid Loss: 0.764036 Valid MAP: 0.5290158411206358 Valid Accuracy: 0.6665\n",
      "--------------------\n",
      "进行第7个epoch\n",
      "--------------------\n",
      "Epoch: 7 Train Loss: 0.759036 Train MAP: 0.5261437204682013 Train Accuracy: 0.6694\n",
      "Epoch: 7 Valid Loss: 0.768085 Valid MAP: 0.5479628933452142 Valid Accuracy: 0.6673\n",
      "--------------------\n",
      "进行第8个epoch\n",
      "--------------------\n",
      "Epoch: 8 Train Loss: 0.749523 Train MAP: 0.5374723495852727 Train Accuracy: 0.6724\n",
      "Epoch: 8 Valid Loss: 0.760203 Valid MAP: 0.540924637596024 Valid Accuracy: 0.6695\n",
      "--------------------\n",
      "进行第9个epoch\n",
      "--------------------\n",
      "Epoch: 9 Train Loss: 0.743181 Train MAP: 0.5379473576429312 Train Accuracy: 0.6735\n",
      "Epoch: 9 Valid Loss: 0.767326 Valid MAP: 0.577107443555517 Valid Accuracy: 0.6745\n",
      "--------------------\n",
      "进行第10个epoch\n",
      "--------------------\n",
      "Epoch: 10 Train Loss: 0.735076 Train MAP: 0.5527549109354372 Train Accuracy: 0.6782\n",
      "Epoch: 10 Valid Loss: 0.756246 Valid MAP: 0.5601307780326651 Valid Accuracy: 0.6762\n",
      "--------------------\n",
      "进行第11个epoch\n",
      "--------------------\n",
      "Epoch: 11 Train Loss: 0.728649 Train MAP: 0.5607347239703349 Train Accuracy: 0.6819\n",
      "Epoch: 11 Valid Loss: 0.756314 Valid MAP: 0.5661725970142981 Valid Accuracy: 0.6713\n",
      "--------------------\n",
      "进行第12个epoch\n",
      "--------------------\n",
      "Epoch: 12 Train Loss: 0.721527 Train MAP: 0.5666312153615697 Train Accuracy: 0.6846\n",
      "Epoch: 12 Valid Loss: 0.760691 Valid MAP: 0.5622080482200718 Valid Accuracy: 0.6708\n",
      "--------------------\n",
      "进行第13个epoch\n",
      "--------------------\n",
      "Epoch: 13 Train Loss: 0.715904 Train MAP: 0.570298113553123 Train Accuracy: 0.6863\n",
      "Epoch: 13 Valid Loss: 0.758382 Valid MAP: 0.5660102665728287 Valid Accuracy: 0.6731\n",
      "--------------------\n",
      "进行第14个epoch\n",
      "--------------------\n",
      "Epoch: 14 Train Loss: 0.708913 Train MAP: 0.5761096116726117 Train Accuracy: 0.6894\n",
      "Epoch: 14 Valid Loss: 0.765390 Valid MAP: 0.5786475466976718 Valid Accuracy: 0.6733\n",
      "--------------------\n",
      "进行第15个epoch\n",
      "--------------------\n",
      "Epoch: 15 Train Loss: 0.703253 Train MAP: 0.5790883242287453 Train Accuracy: 0.6906\n",
      "Epoch: 15 Valid Loss: 0.755803 Valid MAP: 0.5642934840300409 Valid Accuracy: 0.6765\n",
      "--------------------\n",
      "进行第16个epoch\n",
      "--------------------\n",
      "Epoch: 16 Train Loss: 0.696248 Train MAP: 0.5875223227393664 Train Accuracy: 0.6945\n",
      "Epoch: 16 Valid Loss: 0.773204 Valid MAP: 0.5605152237758831 Valid Accuracy: 0.6735\n",
      "--------------------\n",
      "进行第17个epoch\n",
      "--------------------\n",
      "Epoch: 17 Train Loss: 0.689323 Train MAP: 0.5958171640359998 Train Accuracy: 0.6983\n",
      "Epoch: 17 Valid Loss: 0.766615 Valid MAP: 0.5722102550198379 Valid Accuracy: 0.6733\n",
      "--------------------\n",
      "进行第18个epoch\n",
      "--------------------\n",
      "Epoch: 18 Train Loss: 0.684641 Train MAP: 0.5984346863023489 Train Accuracy: 0.6995\n",
      "Epoch: 18 Valid Loss: 0.780151 Valid MAP: 0.5702309217679187 Valid Accuracy: 0.6734\n",
      "--------------------\n",
      "进行第19个epoch\n",
      "--------------------\n",
      "Epoch: 19 Train Loss: 0.679391 Train MAP: 0.6028673821361048 Train Accuracy: 0.7011\n",
      "Epoch: 19 Valid Loss: 0.781475 Valid MAP: 0.5686043366392372 Valid Accuracy: 0.6729\n",
      "--------------------\n",
      "进行第20个epoch\n",
      "--------------------\n",
      "Epoch: 20 Train Loss: 0.673482 Train MAP: 0.6091381952958227 Train Accuracy: 0.7051\n",
      "Epoch: 20 Valid Loss: 0.774741 Valid MAP: 0.5649093424192959 Valid Accuracy: 0.6767\n",
      "--------------------\n",
      "进行第21个epoch\n",
      "--------------------\n",
      "Epoch: 21 Train Loss: 0.666024 Train MAP: 0.6145650702552284 Train Accuracy: 0.7077\n",
      "Epoch: 21 Valid Loss: 0.773820 Valid MAP: 0.5733235997610444 Valid Accuracy: 0.6764\n",
      "--------------------\n",
      "进行第22个epoch\n",
      "--------------------\n",
      "Epoch: 22 Train Loss: 0.658823 Train MAP: 0.6198317559581142 Train Accuracy: 0.7111\n",
      "Epoch: 22 Valid Loss: 0.780580 Valid MAP: 0.5786024488690191 Valid Accuracy: 0.6740\n",
      "--------------------\n",
      "进行第23个epoch\n",
      "--------------------\n",
      "Epoch: 23 Train Loss: 0.655340 Train MAP: 0.6202250825245568 Train Accuracy: 0.7108\n",
      "Epoch: 23 Valid Loss: 0.789728 Valid MAP: 0.5777299397813217 Valid Accuracy: 0.6745\n",
      "--------------------\n",
      "进行第24个epoch\n",
      "--------------------\n",
      "Epoch: 24 Train Loss: 0.650890 Train MAP: 0.6267876643242898 Train Accuracy: 0.7147\n",
      "Epoch: 24 Valid Loss: 0.788741 Valid MAP: 0.5690019723850119 Valid Accuracy: 0.6736\n",
      "--------------------\n",
      "进行第25个epoch\n",
      "--------------------\n",
      "Epoch: 25 Train Loss: 0.647467 Train MAP: 0.629098039494867 Train Accuracy: 0.7158\n",
      "Epoch: 25 Valid Loss: 0.793896 Valid MAP: 0.5827708744223811 Valid Accuracy: 0.6698\n",
      "--------------------\n",
      "进行第26个epoch\n",
      "--------------------\n",
      "Epoch: 26 Train Loss: 0.639389 Train MAP: 0.635958706677798 Train Accuracy: 0.7192\n",
      "Epoch: 26 Valid Loss: 0.804653 Valid MAP: 0.573461515774671 Valid Accuracy: 0.6761\n",
      "--------------------\n",
      "进行第27个epoch\n",
      "--------------------\n",
      "Epoch: 27 Train Loss: 0.636679 Train MAP: 0.6375539964388754 Train Accuracy: 0.7204\n",
      "Epoch: 27 Valid Loss: 0.806946 Valid MAP: 0.5764500607724824 Valid Accuracy: 0.6729\n",
      "--------------------\n",
      "进行第28个epoch\n",
      "--------------------\n",
      "Epoch: 28 Train Loss: 0.630461 Train MAP: 0.6393829349549919 Train Accuracy: 0.7218\n",
      "Epoch: 28 Valid Loss: 0.807403 Valid MAP: 0.5754618925818072 Valid Accuracy: 0.6727\n",
      "--------------------\n",
      "进行第29个epoch\n",
      "--------------------\n",
      "Epoch: 29 Train Loss: 0.625762 Train MAP: 0.6453277565345589 Train Accuracy: 0.7251\n",
      "Epoch: 29 Valid Loss: 0.810712 Valid MAP: 0.5788377030441345 Valid Accuracy: 0.6693\n",
      "--------------------\n",
      "Train finished!\n",
      "Best Epoch: 20 Best Valid Loss:0.774741 Best Valid Accuracy: 0.6767\n"
     ]
    }
   ],
   "source": [
    "#训练开始\n",
    "best_valid_acc = 0.\n",
    "best_epoch = 0\n",
    "best_valid_loss = 0.\n",
    "\n",
    "train_loss_list = []\n",
    "valid_loss_list = []\n",
    "\n",
    "for epoch in range(epoches):\n",
    "    print(\"进行第{}个epoch\".format(epoch))\n",
    "    \n",
    "    train_loss, train_acc, train_MAP = train(model, Loss, optimizer, train_loader)\n",
    "    valid_loss, valid_acc, valid_MAP = evaluate(model, Loss, optimizer, valid_loader)\n",
    "    \n",
    "    if valid_acc > best_valid_acc:\n",
    "        best_epoch = epoch\n",
    "        best_valid_acc = valid_acc\n",
    "        best_valid_loss = valid_loss\n",
    "        torch.save(model.state_dict(), 'lstm-cnn-model-epoch30-embed128-lr0001-bz128-dp05-filter64-hz128.pth')\n",
    "        \n",
    "    train_loss_list.append(train_loss)\n",
    "    valid_loss_list.append(valid_loss)\n",
    "    print('-'*20)\n",
    "    print('Epoch:', epoch, 'Train Loss: %0.6f'% train_loss, 'Train MAP:',train_MAP , 'Train Accuracy: %0.4f'% train_acc)\n",
    "    print('Epoch:', epoch, 'Valid Loss: %0.6f'% valid_loss, 'Valid MAP:',valid_MAP , 'Valid Accuracy: %0.4f'% valid_acc)\n",
    "    print('-'*20)\n",
    "print(\"Train finished!\")\n",
    "print('Best Epoch:', best_epoch, 'Best Valid Loss:%0.6f'% best_valid_loss, 'Best Valid Accuracy: %0.4f'% best_valid_acc)"
   ]
  },
  {
   "cell_type": "code",
   "execution_count": 84,
   "metadata": {},
   "outputs": [
    {
     "data": {
      "image/png": "[encoded data removed]",
      "text/plain": [
       "<Figure size 432x288 with 1 Axes>"
      ]
     },
     "metadata": {
      "needs_background": "light"
     },
     "output_type": "display_data"
    }
   ],
   "source": [
    "import matplotlib.pyplot as plt\n",
    "\n",
    "plt.plot(list(range(epoches)), train_loss_list, c = 'b', label = 'train loss')\n",
    "plt.plot(list(range(epoches)), valid_loss_list, c = 'r', label = 'valid loss')\n",
    "plt.xlabel('Epoch')\n",
    "plt.ylabel('Loss')\n",
    "plt.legend()\n",
    "plt.show()\n"
   ]
  },
  {
   "cell_type": "code",
   "execution_count": 212,
   "metadata": {
    "scrolled": true
   },
   "outputs": [
    {
     "ename": "OSError",
     "evalue": "[E050] Can't find model 'en'. It doesn't seem to be a shortcut link, a Python package or a valid path to a data directory.",
     "output_type": "error",
     "traceback": [
      "\u001b[1;31m---------------------------------------------------------------------------\u001b[0m",
      "\u001b[1;31mOSError\u001b[0m                                   Traceback (most recent call last)",
      "\u001b[1;32m<ipython-input-212-3b1f1e59954e>\u001b[0m in \u001b[0;36m<module>\u001b[1;34m\u001b[0m\n\u001b[0;32m      1\u001b[0m \u001b[1;32mimport\u001b[0m \u001b[0mspacy\u001b[0m\u001b[1;33m\u001b[0m\u001b[1;33m\u001b[0m\u001b[0m\n\u001b[0;32m      2\u001b[0m \u001b[1;33m\u001b[0m\u001b[0m\n\u001b[1;32m----> 3\u001b[1;33m \u001b[0mnlp\u001b[0m \u001b[1;33m=\u001b[0m \u001b[0mspacy\u001b[0m\u001b[1;33m.\u001b[0m\u001b[0mload\u001b[0m\u001b[1;33m(\u001b[0m\u001b[1;34m'en'\u001b[0m\u001b[1;33m)\u001b[0m\u001b[1;33m\u001b[0m\u001b[1;33m\u001b[0m\u001b[0m\n\u001b[0m\u001b[0;32m      4\u001b[0m \u001b[1;33m\u001b[0m\u001b[0m\n\u001b[0;32m      5\u001b[0m \u001b[1;32mdef\u001b[0m \u001b[0mpredict_sentence\u001b[0m\u001b[1;33m(\u001b[0m\u001b[0msentence\u001b[0m\u001b[1;33m)\u001b[0m\u001b[1;33m:\u001b[0m\u001b[1;33m\u001b[0m\u001b[1;33m\u001b[0m\u001b[0m\n",
      "\u001b[1;32mD:\\Anaconda3\\lib\\site-packages\\spacy\\__init__.py\u001b[0m in \u001b[0;36mload\u001b[1;34m(name, **overrides)\u001b[0m\n\u001b[0;32m     25\u001b[0m     \u001b[1;32mif\u001b[0m \u001b[0mdepr_path\u001b[0m \u001b[1;32mnot\u001b[0m \u001b[1;32min\u001b[0m \u001b[1;33m(\u001b[0m\u001b[1;32mTrue\u001b[0m\u001b[1;33m,\u001b[0m \u001b[1;32mFalse\u001b[0m\u001b[1;33m,\u001b[0m \u001b[1;32mNone\u001b[0m\u001b[1;33m)\u001b[0m\u001b[1;33m:\u001b[0m\u001b[1;33m\u001b[0m\u001b[1;33m\u001b[0m\u001b[0m\n\u001b[0;32m     26\u001b[0m         \u001b[0mdeprecation_warning\u001b[0m\u001b[1;33m(\u001b[0m\u001b[0mWarnings\u001b[0m\u001b[1;33m.\u001b[0m\u001b[0mW001\u001b[0m\u001b[1;33m.\u001b[0m\u001b[0mformat\u001b[0m\u001b[1;33m(\u001b[0m\u001b[0mpath\u001b[0m\u001b[1;33m=\u001b[0m\u001b[0mdepr_path\u001b[0m\u001b[1;33m)\u001b[0m\u001b[1;33m)\u001b[0m\u001b[1;33m\u001b[0m\u001b[1;33m\u001b[0m\u001b[0m\n\u001b[1;32m---> 27\u001b[1;33m     \u001b[1;32mreturn\u001b[0m \u001b[0mutil\u001b[0m\u001b[1;33m.\u001b[0m\u001b[0mload_model\u001b[0m\u001b[1;33m(\u001b[0m\u001b[0mname\u001b[0m\u001b[1;33m,\u001b[0m \u001b[1;33m**\u001b[0m\u001b[0moverrides\u001b[0m\u001b[1;33m)\u001b[0m\u001b[1;33m\u001b[0m\u001b[1;33m\u001b[0m\u001b[0m\n\u001b[0m\u001b[0;32m     28\u001b[0m \u001b[1;33m\u001b[0m\u001b[0m\n\u001b[0;32m     29\u001b[0m \u001b[1;33m\u001b[0m\u001b[0m\n",
      "\u001b[1;32mD:\\Anaconda3\\lib\\site-packages\\spacy\\util.py\u001b[0m in \u001b[0;36mload_model\u001b[1;34m(name, **overrides)\u001b[0m\n\u001b[0;32m    134\u001b[0m     \u001b[1;32melif\u001b[0m \u001b[0mhasattr\u001b[0m\u001b[1;33m(\u001b[0m\u001b[0mname\u001b[0m\u001b[1;33m,\u001b[0m \u001b[1;34m\"exists\"\u001b[0m\u001b[1;33m)\u001b[0m\u001b[1;33m:\u001b[0m  \u001b[1;31m# Path or Path-like to model data\u001b[0m\u001b[1;33m\u001b[0m\u001b[1;33m\u001b[0m\u001b[0m\n\u001b[0;32m    135\u001b[0m         \u001b[1;32mreturn\u001b[0m \u001b[0mload_model_from_path\u001b[0m\u001b[1;33m(\u001b[0m\u001b[0mname\u001b[0m\u001b[1;33m,\u001b[0m \u001b[1;33m**\u001b[0m\u001b[0moverrides\u001b[0m\u001b[1;33m)\u001b[0m\u001b[1;33m\u001b[0m\u001b[1;33m\u001b[0m\u001b[0m\n\u001b[1;32m--> 136\u001b[1;33m     \u001b[1;32mraise\u001b[0m \u001b[0mIOError\u001b[0m\u001b[1;33m(\u001b[0m\u001b[0mErrors\u001b[0m\u001b[1;33m.\u001b[0m\u001b[0mE050\u001b[0m\u001b[1;33m.\u001b[0m\u001b[0mformat\u001b[0m\u001b[1;33m(\u001b[0m\u001b[0mname\u001b[0m\u001b[1;33m=\u001b[0m\u001b[0mname\u001b[0m\u001b[1;33m)\u001b[0m\u001b[1;33m)\u001b[0m\u001b[1;33m\u001b[0m\u001b[1;33m\u001b[0m\u001b[0m\n\u001b[0m\u001b[0;32m    137\u001b[0m \u001b[1;33m\u001b[0m\u001b[0m\n\u001b[0;32m    138\u001b[0m \u001b[1;33m\u001b[0m\u001b[0m\n",
      "\u001b[1;31mOSError\u001b[0m: [E050] Can't find model 'en'. It doesn't seem to be a shortcut link, a Python package or a valid path to a data directory."
     ]
    }
   ],
   "source": [
    "import spacy\n",
    "\n",
    "nlp = spacy.load('zh')\n",
    "\n",
    "def predict_sentence(sentence):\n",
    "    tokenized = [tok.text for tok in nlp.tokenizer(sentence)]\n",
    "    indexed = [vocab_dict[t] for t in tokenized]\n",
    "    tensor = torch.LongTensor(indexed).to(device)\n",
    "    tensor = tensor.unsqueeze(1)\n",
    "    pred = model(tensor).argmax(dim = 1)\n",
    "    return pred.item()\n",
    "    "
   ]
  },
  {
   "cell_type": "code",
   "execution_count": 86,
   "metadata": {},
   "outputs": [],
   "source": [
    "torch.save(model.state_dict(), 'lstm-cnn-model-epoch30-embed128-lr0001-bz128-dp05-filter64-hz128-06630.pth')"
   ]
  },
  {
   "cell_type": "code",
   "execution_count": 90,
   "metadata": {},
   "outputs": [
    {
     "data": {
      "text/plain": [
       "LSTM_CNNModel(\n",
       "  (embed): Embedding(48074, 128, padding_idx=0)\n",
       "  (lstm): LSTM(128, 128, num_layers=2, bidirectional=True)\n",
       "  (dropout): Dropout(p=0.5, inplace=False)\n",
       "  (convs): ModuleList(\n",
       "    (0): Conv2d(1, 64, kernel_size=(3, 256), stride=(1, 1))\n",
       "  )\n",
       "  (f1): Linear(in_features=64, out_features=3, bias=True)\n",
       ")"
      ]
     },
     "execution_count": 90,
     "metadata": {},
     "output_type": "execute_result"
    }
   ],
   "source": [
    "# model = LSTMModel(vocab_size = VOCAB_SIZE, \n",
    "#                  embedding_size = EMBEDDING_SIZE,\n",
    "#                  output_size = OUTPUT_SIZE,\n",
    "#                  pad_idx = PAD_IDX,\n",
    "#                  num_layers = num_layers,\n",
    "#                  bidirectional = bidirectional,\n",
    "#                  hidden_size = hidden_size,\n",
    "#                  dropout = dropout)\n",
    "\n",
    "\n",
    "#model.load_state_dict(torch.load('lstm-cnn-model-epoch60-embed128-lr001-bz128-dp05-filter100-06550.pth'))\n",
    "model.load_state_dict(torch.load(\"lstm-cnn-model-epoch30-embed128-lr0001-bz128-dp05-filter64-hz128.pth\"))\n",
    "model.eval()\n",
    "#predict_model.to(device)"
   ]
  },
  {
   "cell_type": "code",
   "execution_count": 92,
   "metadata": {},
   "outputs": [
    {
     "name": "stdout",
     "output_type": "stream",
     "text": [
      "tensor(0.6750, device='cuda:0')\n",
      "0.566357051445898\n"
     ]
    }
   ],
   "source": [
    "test_acc, test_MAP = accuracy_computing(model(test_X), test_y.squeeze())\n",
    "print(test_acc)\n",
    "print(test_MAP)"
   ]
  },
  {
   "cell_type": "code",
   "execution_count": 54,
   "metadata": {},
   "outputs": [
    {
     "data": {
      "text/plain": [
       "6967731"
      ]
     },
     "execution_count": 54,
     "metadata": {},
     "output_type": "execute_result"
    }
   ],
   "source": [
    "#model参数\n",
    "def count_parameters(model):\n",
    "    return sum(p.numel() for p in model.parameters() if p.requires_grad)\n",
    "\n",
    "count_parameters(model)"
   ]
  },
  {
   "cell_type": "code",
   "execution_count": 55,
   "metadata": {},
   "outputs": [
    {
     "data": {
      "text/plain": [
       "6153472"
      ]
     },
     "execution_count": 55,
     "metadata": {},
     "output_type": "execute_result"
    }
   ],
   "source": [
    "next(model.parameters()).numel()"
   ]
  },
  {
   "cell_type": "code",
   "execution_count": null,
   "metadata": {},
   "outputs": [],
   "source": []
  }
 ],
 "metadata": {
  "kernelspec": {
   "display_name": "Python 3",
   "language": "python",
   "name": "python3"
  },
  "language_info": {
   "codemirror_mode": {
    "name": "ipython",
    "version": 3
   },
   "file_extension": ".py",
   "mimetype": "text/x-python",
   "name": "python",
   "nbconvert_exporter": "python",
   "pygments_lexer": "ipython3",
   "version": "3.7.3"
  }
 },
 "nbformat": 4,
 "nbformat_minor": 2
}
